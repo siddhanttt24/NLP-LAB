{
  "nbformat": 4,
  "nbformat_minor": 0,
  "metadata": {
    "colab": {
      "provenance": []
    },
    "kernelspec": {
      "name": "python3",
      "display_name": "Python 3"
    },
    "language_info": {
      "name": "python"
    }
  },
  "cells": [
    {
      "cell_type": "markdown",
      "source": [
        "Siddhant Gawai\n",
        "\n",
        "21102B0007\n",
        "\n",
        "BE CMPN B"
      ],
      "metadata": {
        "id": "mdLqqyarhvEr"
      }
    },
    {
      "cell_type": "code",
      "execution_count": 1,
      "metadata": {
        "colab": {
          "base_uri": "https://localhost:8080/"
        },
        "id": "5imYCSiRhU5C",
        "outputId": "bf2746e3-58b7-433e-98f5-d898cb2daa11"
      },
      "outputs": [
        {
          "output_type": "stream",
          "name": "stdout",
          "text": [
            "Requirement already satisfied: nltk in /usr/local/lib/python3.10/dist-packages (3.8.1)\n",
            "Requirement already satisfied: click in /usr/local/lib/python3.10/dist-packages (from nltk) (8.1.7)\n",
            "Requirement already satisfied: joblib in /usr/local/lib/python3.10/dist-packages (from nltk) (1.4.2)\n",
            "Requirement already satisfied: regex>=2021.8.3 in /usr/local/lib/python3.10/dist-packages (from nltk) (2024.9.11)\n",
            "Requirement already satisfied: tqdm in /usr/local/lib/python3.10/dist-packages (from nltk) (4.66.5)\n"
          ]
        },
        {
          "output_type": "stream",
          "name": "stderr",
          "text": [
            "[nltk_data] Downloading package brown to /root/nltk_data...\n",
            "[nltk_data]   Unzipping corpora/brown.zip.\n"
          ]
        },
        {
          "output_type": "stream",
          "name": "stdout",
          "text": [
            "Categories in Brown Corpus:\n",
            "['adventure', 'belles_lettres', 'editorial', 'fiction', 'government', 'hobbies', 'humor', 'learned', 'lore', 'mystery', 'news', 'religion', 'reviews', 'romance', 'science_fiction']\n",
            "\n",
            "Number of words in the Science Fiction category: 14470\n"
          ]
        }
      ],
      "source": [
        "# Step 1: Install and import the necessary libraries\n",
        "!pip install nltk\n",
        "\n",
        "import nltk\n",
        "from nltk.corpus import brown\n",
        "\n",
        "# Step 2: Download the Brown corpus\n",
        "nltk.download('brown')\n",
        "\n",
        "# Step 3: List the categories in the Brown corpus\n",
        "categories = brown.categories()\n",
        "print(\"Categories in Brown Corpus:\")\n",
        "print(categories)\n",
        "\n",
        "# Step 4: Count the number of words in the Science Fiction category\n",
        "sci_fi_words = brown.words(categories='science_fiction')\n",
        "word_count = len(sci_fi_words)\n",
        "\n",
        "print(f\"\\nNumber of words in the Science Fiction category: {word_count}\")\n"
      ]
    }
  ]
}